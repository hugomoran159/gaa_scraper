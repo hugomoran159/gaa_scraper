{
  "cells": [
    {
      "cell_type": "code",
      "execution_count": null,
      "metadata": {
        "vscode": {
          "languageId": "plaintext"
        }
      },
      "outputs": [],
      "source": [
        "# 🏈 Dublin GAA Fixtures Scraper\n",
        "\n",
        "**Comprehensive fixture data collection for all Dublin GAA sports, age groups, and competitions**\n",
        "\n",
        "---\n",
        "\n",
        "## 📋 What This Does\n",
        "\n",
        "This notebook collects **ALL** Dublin GAA fixture data including:\n",
        "- **Sports**: Male Football, Hurling, Ladies Football, Camogie\n",
        "- **Age Groups**: U8 through Adult competitions  \n",
        "- **Date Range**: Next 2 weeks (customizable)\n",
        "- **Output**: CSV, Excel, and JSON formats\n",
        "\n",
        "## 🚀 Quick Start\n",
        "\n",
        "1. Run the setup cell below\n",
        "2. Run the data collection cell\n",
        "3. Download your results\n",
        "\n",
        "**Total runtime: ~2 minutes**\n"
      ]
    },
    {
      "cell_type": "code",
      "execution_count": null,
      "metadata": {},
      "outputs": [],
      "source": [
        "# 📦 Setup: Install dependencies\n",
        "print(\"🔧 Installing dependencies...\")\n",
        "!pip install requests beautifulsoup4 lxml pandas plotly openpyxl -q\n",
        "\n",
        "# Import required libraries\n",
        "import requests\n",
        "from datetime import datetime, timedelta\n",
        "import pandas as pd\n",
        "import json\n",
        "from typing import Dict, List, Optional\n",
        "import time\n",
        "from bs4 import BeautifulSoup\n",
        "\n",
        "print(\"✅ Setup complete!\")\n"
      ]
    }
  ],
  "metadata": {
    "language_info": {
      "name": "python"
    }
  },
  "nbformat": 4,
  "nbformat_minor": 2
}
